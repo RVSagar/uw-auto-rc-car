{
  "cells": [
    {
      "cell_type": "code",
      "source": [
        "import sys\r\n",
        "from matplotlib import pyplot\r\n",
        "import os\r\n",
        "import azureml\r\n",
        "from azureml.core import Experiment\r\n",
        "from azureml.core import Environment\r\n",
        "from azureml.core import Workspace, Datastore, Dataset\r\n",
        "ws = Workspace.from_config()\r\n",
        "print(\"Azure ML SDK Version: \", azureml.core.VERSION)\r\n",
        "print(ws.name, ws.location, ws.resource_group, sep='\\t')\r\n",
        "from azureml.core import Experiment\r\n",
        "from azureml.core.compute import ComputeTarget, AmlCompute\r\n",
        "from azureml.core.compute_target import ComputeTargetException\r\n",
        "from azureml.core.conda_dependencies import CondaDependencies"
      ],
      "outputs": [],
      "execution_count": 1,
      "metadata": {
        "gather": {
          "logged": 1617830324633
        }
      }
    },
    {
      "cell_type": "code",
      "source": [
        "import tensorflow as tf\r\n",
        "import keras\r\n",
        "from keras.utils import to_categorical\r\n",
        "from keras.models import Sequential, load_model\r\n",
        "from keras.layers import Conv2D\r\n",
        "from keras.layers import MaxPooling2D\r\n",
        "from keras.layers import Dense\r\n",
        "from keras.layers import Flatten\r\n",
        "from keras.layers import MaxPool2D, MaxPooling2D, Dropout, BatchNormalization\r\n",
        "from keras.optimizers import SGD\r\n",
        "from keras.preprocessing.image import ImageDataGenerator\r\n",
        "from keras.layers import Dropout\r\n",
        "from keras.optimizers import SGD, Adam\r\n",
        "import sqlite3\r\n",
        "import yaml\r\n",
        "import csv\r\n",
        "import numpy\r\n",
        "import math\r\n",
        "import cv2\r\n",
        "from PIL import Image"
      ],
      "outputs": [],
      "execution_count": 2,
      "metadata": {
        "collapsed": true,
        "jupyter": {
          "source_hidden": false,
          "outputs_hidden": false
        },
        "nteract": {
          "transient": {
            "deleting": false
          }
        },
        "gather": {
          "logged": 1617830327241
        }
      }
    },
    {
      "cell_type": "code",
      "source": [
        "from azureml.core import Workspace, Dataset\r\n",
        "\r\n",
        "subscription_id = '103da3c6-1089-4d2b-8b1d-5159e8f5ffc5'\r\n",
        "resource_group = 'RG_Machine_Learning'\r\n",
        "workspace_name = 'MachineLearningLab'\r\n",
        "\r\n",
        "workspace = Workspace(subscription_id, resource_group, workspace_name)\r\n",
        "\r\n",
        "#datasetImages = Dataset.get_by_name(workspace, name='singleLane1000Images')\r\n",
        "#datasetImages.download(target_path='./imagesSingle', overwrite=True)\r\n",
        "\r\n",
        "#datasetYaml = Dataset.get_by_name(workspace, name='singleLand1000Yaml')\r\n",
        "#datasetYaml.download(target_path='./yamlSingle', overwrite=True)\r\n",
        "\r\n",
        "#datasetImages = Dataset.get_by_name(workspace, name='100roadImages')\r\n",
        "#datasetImages.download(target_path='./test', overwrite=True)\r\n"
      ],
      "outputs": [],
      "execution_count": null,
      "metadata": {
        "collapsed": true,
        "jupyter": {
          "source_hidden": false,
          "outputs_hidden": false
        },
        "nteract": {
          "transient": {
            "deleting": false
          }
        },
        "gather": {
          "logged": 1617830329001
        }
      }
    },
    {
      "cell_type": "code",
      "source": [
        "#this takes about 7 minutes to run: loads in all the data from the files \r\n",
        "img_array = []\r\n",
        "dictYaml = []\r\n",
        "fileYaml = ''\r\n",
        "listOfEverything = []\r\n",
        "data_tuple = ()\r\n",
        "counter = 0\r\n",
        "for fileImg in os.listdir('imagesSingle'):\r\n",
        "    #print(fileImg)\r\n",
        "    imageFilePlace = 'imagesSingle/'+fileImg\r\n",
        "    fileYaml = fileImg[:-4]+'.yaml'\r\n",
        "    yamlFilePlace = 'yamlSingle/'+fileYaml\r\n",
        "    #print(fileYaml)\r\n",
        "    with open(os.fsdecode(yamlFilePlace)) as filey:\r\n",
        "        dictYaml = yaml.safe_load(filey)\r\n",
        "        #print(dictYaml)\r\n",
        "    img = Image.open(imageFilePlace)\r\n",
        "    img_array = numpy.array(img)\r\n",
        "    data_tuple = (img_array, dictYaml)\r\n",
        "    listOfEverything.append(data_tuple)\r\n",
        "    print(counter)\r\n",
        "    counter+=1"
      ],
      "outputs": [
        {
          "output_type": "stream",
          "name": "stdout",
          "text": [
            
          ]
        }
      ],
      "execution_count": 4,
      "metadata": {
        "collapsed": true,
        "jupyter": {
          "source_hidden": false,
          "outputs_hidden": false
        },
        "nteract": {
          "transient": {
            "deleting": false
          }
        },
        "gather": {
          "logged": 1617896635625
        }
      }
    },
    {
      "cell_type": "code",
      "source": [
        "import random\r\n",
        "import pickle\r\n",
        "import sklearn\r\n",
        "from sklearn.utils import shuffle\r\n",
        "from sklearn.model_selection import train_test_split\r\n",
        "from cv2 import cvtColor, GaussianBlur\r\n",
        "from PIL import Image\r\n",
        "print(\"Tensorflow version \" + tf.__version__)\r\n",
        "print('Keras Version '+ keras.__version__)\r\n",
        "print(\"Running on GPU:\", tf.test.is_built_with_cuda())\r\n",
        "print(\"Num GPUs Available: \", len(tf.config.experimental.list_physical_devices('GPU')))\r\n",
        "\r\n",
        "#DO THIS WHEN YOUR COMPUTE HAS GPU POWER\r\n",
        "#gpus= tf.config.experimental.list_physical_devices('GPU')\r\n",
        "#tf.config.experimental.set_memory_growth(gpus[0], True)"
      ],
      "outputs": [
        {
          "output_type": "stream",
          "name": "stdout",
          "text": [
            "Tensorflow version 2.1.0\n",
            "Keras Version 2.3.1\n",
            "Running on GPU: True\n",
            "Num GPUs Available:  0\n"
          ]
        }
      ],
      "execution_count": 6,
      "metadata": {
        "collapsed": true,
        "jupyter": {
          "source_hidden": false,
          "outputs_hidden": false
        },
        "nteract": {
          "transient": {
            "deleting": false
          }
        },
        "gather": {
          "logged": 1617896640560
        }
      }
    },
    {
      "cell_type": "code",
      "source": [
        "def makeListOfX0(listEverything):\r\n",
        "    listX0 = []\r\n",
        "    for item in listEverything:\r\n",
        "        listX0.append(item[1]['X0'])\r\n",
        "    return listX0"
      ],
      "outputs": [],
      "execution_count": null,
      "metadata": {
        "collapsed": true,
        "jupyter": {
          "source_hidden": false,
          "outputs_hidden": false
        },
        "nteract": {
          "transient": {
            "deleting": false
          }
        },
        "gather": {
          "logged": 1617830673923
        }
      }
    },
    {
      "cell_type": "code",
      "source": [
        "def makeListOfYAW0(listEverything):\r\n",
        "    listYAW0 = []\r\n",
        "    for item in listEverything:\r\n",
        "        listYAW0.append(item[1]['YAW0'])\r\n",
        "    return listYAW0"
      ],
      "outputs": [],
      "execution_count": 7,
      "metadata": {
        "collapsed": true,
        "jupyter": {
          "source_hidden": false,
          "outputs_hidden": false
        },
        "nteract": {
          "transient": {
            "deleting": false
          }
        },
        "gather": {
          "logged": 1617896641146
        }
      }
    },
    {
      "cell_type": "code",
      "source": [
        "def makeListOfZ0(listEverything):\r\n",
        "    listZ0 = []\r\n",
        "    for item in listEverything:\r\n",
        "        listZ0.append(item[1]['Z0'])\r\n",
        "    return listZ0"
      ],
      "outputs": [],
      "execution_count": 8,
      "metadata": {
        "collapsed": true,
        "jupyter": {
          "source_hidden": false,
          "outputs_hidden": false
        },
        "nteract": {
          "transient": {
            "deleting": false
          }
        },
        "gather": {
          "logged": 1617896641378
        }
      }
    },
    {
      "cell_type": "code",
      "source": [
        "def makeListOfCamHeight(listEverything):\r\n",
        "    listCamHeight = []\r\n",
        "    for item in listEverything:\r\n",
        "        listCamHeight.append(item[1]['cam_height'])\r\n",
        "    return listCamHeight"
      ],
      "outputs": [],
      "execution_count": 9,
      "metadata": {
        "collapsed": true,
        "jupyter": {
          "source_hidden": false,
          "outputs_hidden": false
        },
        "nteract": {
          "transient": {
            "deleting": false
          }
        },
        "gather": {
          "logged": 1617896641612
        }
      }
    },
    {
      "cell_type": "code",
      "source": [
        "def makeListOfDy(listEverything):\r\n",
        "    listDy = []\r\n",
        "    for item in listEverything:\r\n",
        "        listDy.append(item[1]['dy'])\r\n",
        "    return listDy"
      ],
      "outputs": [],
      "execution_count": 10,
      "metadata": {
        "collapsed": true,
        "jupyter": {
          "source_hidden": false,
          "outputs_hidden": false
        },
        "nteract": {
          "transient": {
            "deleting": false
          }
        },
        "gather": {
          "logged": 1617896642278
        }
      }
    },
    {
      "cell_type": "code",
      "source": [
        "def makeListOfFocalLength(listEverything):\r\n",
        "    listFocalLength = []\r\n",
        "    for item in listEverything:\r\n",
        "        listFocalLength.append(item[1]['focal_length'])\r\n",
        "    return listFocalLength"
      ],
      "outputs": [],
      "execution_count": 11,
      "metadata": {
        "collapsed": true,
        "jupyter": {
          "source_hidden": false,
          "outputs_hidden": false
        },
        "nteract": {
          "transient": {
            "deleting": false
          }
        },
        "gather": {
          "logged": 1617896642669
        }
      }
    },
    {
      "cell_type": "code",
      "source": [
        "def makeListOfInvRad(listEverything):\r\n",
        "    listInvRad = []\r\n",
        "    for item in listEverything:\r\n",
        "        listInvRad.append(item[1]['inv_rad'])\r\n",
        "    return listInvRad"
      ],
      "outputs": [],
      "execution_count": 12,
      "metadata": {
        "collapsed": true,
        "jupyter": {
          "source_hidden": false,
          "outputs_hidden": false
        },
        "nteract": {
          "transient": {
            "deleting": false
          }
        },
        "gather": {
          "logged": 1617896642949
        }
      }
    },
    {
      "cell_type": "code",
      "source": [
        "def makeListOfRoadWidth(listEverything):\r\n",
        "    listRoadWidth = []\r\n",
        "    for item in listEverything:\r\n",
        "        listRoadWidth.append(item[1]['road_width'])\r\n",
        "    return listRoadWidth"
      ],
      "outputs": [],
      "execution_count": 27,
      "metadata": {
        "collapsed": true,
        "jupyter": {
          "source_hidden": false,
          "outputs_hidden": false
        },
        "nteract": {
          "transient": {
            "deleting": false
          }
        },
        "gather": {
          "logged": 1617901714786
        }
      }
    },
    {
      "cell_type": "code",
      "source": [
        "def makeListOfStraight(listEverything):\r\n",
        "    listStraight = []\r\n",
        "    for item in listEverything:\r\n",
        "        listStraight.append(item[1]['straight'])\r\n",
        "    return listStraight"
      ],
      "outputs": [],
      "execution_count": 13,
      "metadata": {
        "collapsed": true,
        "jupyter": {
          "source_hidden": false,
          "outputs_hidden": false
        },
        "nteract": {
          "transient": {
            "deleting": false
          }
        },
        "gather": {
          "logged": 1617896643363
        }
      }
    },
    {
      "cell_type": "code",
      "source": [
        "def makeListOfSteeringAngle(listEverything):\r\n",
        "    listSteering = []\r\n",
        "    for item in listEverything:\r\n",
        "        listSteering.append(item[1]['steering_angle'])\r\n",
        "    return listSteering"
      ],
      "outputs": [],
      "execution_count": 14,
      "metadata": {
        "collapsed": true,
        "jupyter": {
          "source_hidden": false,
          "outputs_hidden": false
        },
        "nteract": {
          "transient": {
            "deleting": false
          }
        },
        "gather": {
          "logged": 1617896643865
        }
      }
    },
    {
      "cell_type": "code",
      "source": [
        "def makeImageList(listEverything):\r\n",
        "    imList = []\r\n",
        "    for item in listEverything:\r\n",
        "        imList.append(item[0])\r\n",
        "    return imList"
      ],
      "outputs": [],
      "execution_count": 15,
      "metadata": {
        "collapsed": true,
        "jupyter": {
          "source_hidden": false,
          "outputs_hidden": false
        },
        "nteract": {
          "transient": {
            "deleting": false
          }
        },
        "gather": {
          "logged": 1617896644302
        }
      }
    },
    {
      "cell_type": "code",
      "source": [
        "def trainAndTestSplit(listEverything, splitPercent):\r\n",
        "    train, test = train_test_split(listEverything, test_size = splitPercent)\r\n",
        "    return train, test"
      ],
      "outputs": [],
      "execution_count": 16,
      "metadata": {
        "collapsed": true,
        "jupyter": {
          "source_hidden": false,
          "outputs_hidden": false
        },
        "nteract": {
          "transient": {
            "deleting": false
          }
        },
        "gather": {
          "logged": 1617896644589
        }
      }
    },
    {
      "cell_type": "code",
      "source": [
        "def prepPixels(listEverything):\r\n",
        "    listNew = []\r\n",
        "    current = 0\r\n",
        "    for item in listEverything:\r\n",
        "        itemNew0 = item[0].astype('float32')\r\n",
        "        itemNew0 = item[0]/255\r\n",
        "        item_tuple = (itemNew0, item[1])\r\n",
        "        current+=1\r\n",
        "        #print(current)\r\n",
        "        listNew.append(item_tuple)\r\n",
        "    return listNew"
      ],
      "outputs": [],
      "execution_count": 17,
      "metadata": {
        "collapsed": true,
        "jupyter": {
          "source_hidden": false,
          "outputs_hidden": false
        },
        "nteract": {
          "transient": {
            "deleting": false
          }
        },
        "gather": {
          "logged": 1617896645022
        }
      }
    },
    {
      "cell_type": "code",
      "source": [
        "import time\r\n",
        "def runTime(startTime):\r\n",
        "    currentTime = time.perf_counter()\r\n",
        "    hours = (int)((currentTime - startTime) / 3600)\r\n",
        "    minutes = (int)(((currentTime - startTime) - (3600 * hours)) / 60)\r\n",
        "    seconds = (int)((currentTime - startTime) - (3600 * hours) - (60 * minutes))\r\n",
        "    \r\n",
        "    print(\"\\n__Time__\", \"\\nHours:\", hours, \"\\nMinutes:\", minutes, \"\\nSeconds:\", seconds)"
      ],
      "outputs": [],
      "execution_count": 18,
      "metadata": {
        "collapsed": true,
        "jupyter": {
          "source_hidden": false,
          "outputs_hidden": false
        },
        "nteract": {
          "transient": {
            "deleting": false
          }
        },
        "gather": {
          "logged": 1617896645283
        }
      }
    },
    {
      "cell_type": "code",
      "source": [
        "#only run once per start\r\n",
        "list0 = prepPixels(listOfEverything)\r\n",
        " "
      ],
      "outputs": [],
      "execution_count": 19,
      "metadata": {
        "collapsed": true,
        "jupyter": {
          "source_hidden": false,
          "outputs_hidden": false
        },
        "nteract": {
          "transient": {
            "deleting": false
          }
        },
        "gather": {
          "logged": 1617896650840
        }
      }
    },
    {
      "cell_type": "code",
      "source": [
        "#only run once per kernel start\r\n",
        "train, test = trainAndTestSplit(list0, 0.4)\r\n",
        "\r\n",
        "trainX = numpy.array(makeImageList(train))\r\n",
        "#trainYforYAW0 = makeListOfYAW0(train)\r\n",
        "#trainYforRoadWidth = makeListOfRoadWidth(train)\r\n",
        "trainYforSteering = makeListOfSteeringAngle(train)\r\n",
        "\r\n",
        "crossVal, test = trainAndTestSplit(test, 0.5)\r\n",
        "\r\n",
        "testX = numpy.array(makeImageList(test))\r\n",
        "\r\n",
        "#testYforYAW0 = makeListOfYAW0(test)\r\n",
        "#testYforRoadWidth = makeListOfRoadWidth(test)\r\n",
        "testYforSteering = (makeListOfSteeringAngle(test))\r\n",
        "\r\n",
        "crossValX = numpy.array(makeImageList(crossVal))\r\n",
        "#crossValYforYAW0 = makeListOfYAW0(crossVal)\r\n",
        "#crossValYforRoadWidth = makeListOfRoadWidth(crossVal)\r\n",
        "crossValYforSteering = (makeListOfSteeringAngle(crossVal))\r\n",
        "\r\n",
        "import gc\r\n",
        "del list0\r\n",
        "del train\r\n",
        "del test\r\n",
        "del crossVal\r\n",
        "gc.collect()\r\n"
      ],
      "outputs": [
        {
          "output_type": "execute_result",
          "execution_count": 20,
          "data": {
            "text/plain": "22"
          },
          "metadata": {}
        }
      ],
      "execution_count": 20,
      "metadata": {
        "collapsed": true,
        "jupyter": {
          "source_hidden": false,
          "outputs_hidden": false
        },
        "nteract": {
          "transient": {
            "deleting": false
          }
        },
        "gather": {
          "logged": 1617896660396
        }
      }
    },
    {
      "cell_type": "code",
      "source": [
        "def modelCreate():\r\n",
        "    model =Sequential()\r\n",
        "\r\n",
        "    model.add(Conv2D(3, (5,5), strides=(2,2), input_shape = (480,640,3), activation='relu'))\r\n",
        "    \r\n",
        "    model.add(Dropout(0.2))\r\n",
        "\r\n",
        "\r\n",
        "    model.add(Conv2D(24, (5,5), strides=(2,2), activation='relu'))\r\n",
        "\r\n",
        "\r\n",
        "    model.add(Conv2D(36, (5,5), strides=(2,2), activation='relu'))\r\n",
        "\r\n",
        "\r\n",
        "    model.add(Conv2D(48, (3,3), strides=(2,2), activation='relu'))\r\n",
        "\r\n",
        "\r\n",
        "    model.add(Conv2D(64, (3,3), strides=(2,2), activation='relu'))\r\n",
        "\r\n",
        "    model.add(Flatten())\r\n",
        "\r\n",
        "    model.add(Dense(1164, activation='relu'))\r\n",
        "    model.add(Dense(100, activation='relu'))\r\n",
        "    model.add(Dense(50, activation='relu'))\r\n",
        "    model.add(Dense(10, activation='relu'))\r\n",
        "    \r\n",
        "    model.add(Dense(1))\r\n",
        "    \r\n",
        "    optimizer = Adam(lr=1e-3)\r\n",
        "    model.compile(loss='mse', optimizer=optimizer)\r\n",
        "        \r\n",
        "    print(model)\r\n",
        "\r\n",
        "    return model"
      ],
      "outputs": [],
      "execution_count": 21,
      "metadata": {
        "collapsed": true,
        "jupyter": {
          "source_hidden": false,
          "outputs_hidden": false
        },
        "nteract": {
          "transient": {
            "deleting": false
          }
        },
        "gather": {
          "logged": 1617896660704
        }
      }
    },
    {
      "cell_type": "code",
      "source": [
        "startTime = time.perf_counter()\r\n",
        "modelOutputDir = os.getcwd()\r\n",
        "\r\n",
        "model = modelCreate()\r\n",
        "print('Model has been created')\r\n",
        "#trainX = numpy.array(trainX)\r\n",
        "#testX = numpy.array(testX)\r\n",
        "#crossValX = numpy.array(crossValX)\r\n",
        "datagen = ImageDataGenerator(width_shift_range=0.1, height_shift_range=0.1, horizontal_flip=False)\r\n",
        "datagen.fit(trainX)\r\n",
        "itTrain = datagen.flow(trainX, trainYforSteering, batch_size=32)\r\n",
        "steps = int(trainX.shape[0] / 32)\r\n",
        "checkpointCallback = tf.keras.callbacks.ModelCheckpoint(filepath=os.path.join(modelOutputDir, 'laneNavModelSteering.h5'), verbose=1, save_best_only=True)\r\n",
        "print('checkpoint callback done')\r\n",
        "\r\n",
        "history = model.fit(itTrain,\r\n",
        "                              steps_per_epoch=steps,\r\n",
        "                              epochs=10,\r\n",
        "                              validation_data=(crossValX,crossValYforSteering),\r\n",
        "                              verbose=1,\r\n",
        "                              shuffle=1,)\r\n",
        "print('history is done')\r\n",
        "\r\n",
        "#model.fit(trainX, trainYforYAW0, epochs=10, batch_size=64, verbose=0)\r\n",
        "model.save(os.path.join(modelOutputDir, 'laneNavModelSteering.h5'))\r\n",
        "print('model has been saved')\r\n",
        "\r\n",
        "runTime(startTime)"
      ],
      "outputs": [
        {
          "output_type": "stream",
          "name": "stdout",
          "text": [
            "<keras.engine.sequential.Sequential object at 0x7fc54f676710>\n",
            "Model has been created\n",
            "checkpoint callback done\n",
            "Epoch 1/10\n",
            "56/56 [==============================] - 109s 2s/step - loss: 506.8272 - val_loss: 31.4361\b\b\b\b\b\b\b\b\b\b\b\b\b\b\b\b\b\b\b\b\b\b\b\b\b\b\b\b\b\b\b\b\b\b\b\b\b\b\b\b\b\b\b\b\b\b\n",
            "Epoch 2/10\n",
            "56/56 [==============================] - 107s 2s/step - loss: 23.3115 - val_loss: 28.1487\b\b\b\b\b\b\b\b\b\b\b\b\b\b\b\b\b\b\b\b\b\b\b\b\b\b\b\b\b\b\b\b\b\b\b\b\b\b\b\b\b\b\b\n",
            "Epoch 3/10\n",
            "56/56 [==============================] - 106s 2s/step - loss: 22.0751 - val_loss: 28.2023\b\b\b\b\b\b\b\b\b\b\b\b\b\b\b\b\b\b\b\b\b\b\b\b\b\b\b\b\b\b\b\b\b\b\b\b\b\b\b\b\b\b\b\n",
            "Epoch 4/10\n",
            "56/56 [==============================] - 105s 2s/step - loss: 22.5181 - val_loss: 29.1760\b\b\b\b\b\b\b\b\b\b\b\b\b\b\b\b\b\b\b\b\b\b\b\b\b\b\b\b\b\b\b\b\b\b\b\b\b\b\b\b\b\b\b\n",
            "Epoch 5/10\n",
            "56/56 [==============================] - 104s 2s/step - loss: 24.5651 - val_loss: 28.0216\b\b\b\b\b\b\b\b\b\b\b\b\b\b\b\b\b\b\b\b\b\b\b\b\b\b\b\b\b\b\b\b\b\b\b\b\b\b\b\b\b\b\b\n",
            "Epoch 6/10\n",
            "56/56 [==============================] - 104s 2s/step - loss: 22.1749 - val_loss: 27.8968\b\b\b\b\b\b\b\b\b\b\b\b\b\b\b\b\b\b\b\b\b\b\b\b\b\b\b\b\b\b\b\b\b\b\b\b\b\b\b\b\b\b\b\n",
            "Epoch 7/10\n",
            "56/56 [==============================] - 103s 2s/step - loss: 21.9349 - val_loss: 27.6988\b\b\b\b\b\b\b\b\b\b\b\b\b\b\b\b\b\b\b\b\b\b\b\b\b\b\b\b\b\b\b\b\b\b\b\b\b\b\b\b\b\b\b\n",
            "Epoch 8/10\n",
            "56/56 [==============================] - 103s 2s/step - loss: 21.7199 - val_loss: 24.2333\b\b\b\b\b\b\b\b\b\b\b\b\b\b\b\b\b\b\b\b\b\b\b\b\b\b\b\b\b\b\b\b\b\b\b\b\b\b\b\b\b\b\b\n",
            "Epoch 9/10\n",
            "56/56 [==============================] - 103s 2s/step - loss: 21.3563 - val_loss: 23.0445\b\b\b\b\b\b\b\b\b\b\b\b\b\b\b\b\b\b\b\b\b\b\b\b\b\b\b\b\b\b\b\b\b\b\b\b\b\b\b\b\b\b\b\n",
            "Epoch 10/10\n",
            "56/56 [==============================] - 102s 2s/step - loss: 18.7411 - val_loss: 22.7011\b\b\b\b\b\b\b\b\b\b\b\b\b\b\b\b\b\b\b\b\b\b\b\b\b\b\b\b\b\b\b\b\b\b\b\b\b\b\b\b\b\b\b\n",
            "history is done\n",
            "model has been saved\n",
            "\n",
            "__Time__ \n",
            "Hours: 0 \n",
            "Minutes: 17 \n",
            "Seconds: 40\n"
          ]
        }
      ],
      "execution_count": 41,
      "metadata": {
        "collapsed": true,
        "jupyter": {
          "source_hidden": false,
          "outputs_hidden": false
        },
        "nteract": {
          "transient": {
            "deleting": false
          }
        },
        "gather": {
          "logged": 1617832331077
        }
      }
    },
    {
      "cell_type": "code",
      "source": [
        "pyplot.plot(history.history['loss'], color='blue')\r\n",
        "pyplot.plot(history.history['val_loss'], color='red')\r\n",
        "pyplot.legend(['training loss', 'validation loss'])"
      ],
      "outputs": [
        {
          "output_type": "execute_result",
          "execution_count": 42,
          "data": {
            "text/plain": "<matplotlib.legend.Legend at 0x7fc4fe710dd8>"
          },
          "metadata": {}
        },
        {
          "output_type": "display_data",
          "data": {
            "text/plain": "<Figure size 432x288 with 1 Axes>",
            "image/png": "[encoded data removed]"
          },
          "metadata": {
            "needs_background": "light"
          }
        }
      ],
      "execution_count": 42,
      "metadata": {
        "collapsed": true,
        "jupyter": {
          "source_hidden": false,
          "outputs_hidden": false
        },
        "nteract": {
          "transient": {
            "deleting": false
          }
        },
        "gather": {
          "logged": 1617832331464
        }
      }
    },
    {
      "cell_type": "code",
      "source": [
        "\r\n",
        "model = load_model('laneNavModelSteering.h5')\r\n",
        "\r\n",
        "#def prepComputeImage(imageTest):\r\n",
        "    #imageTest = numpy.array(imageTest)\r\n",
        "    #imageTest = imageTest.astype('float32')\r\n",
        "    #imageTest = imageTest/255\r\n",
        "    #params = model.predict(imageTest)\r\n",
        "    #return params\r\n",
        "#print(trainX.shape)\r\n",
        "\r\n",
        "#testing = testX[5]\r\n",
        "#testing = numpy.array(testing)\r\n",
        "#testing = testing.reshape(1,480,640,3)\r\n",
        "\r\n",
        "#print(model.predict(testing))\r\n",
        "#print(testYforYAW0[5])\r\n",
        "current = 0\r\n",
        "totalPercentError = 0\r\n",
        "numberWrong = 0\r\n",
        "modelOutput = []\r\n",
        "for item in testX:\r\n",
        "    item = numpy.array(item)\r\n",
        "    item = item.reshape(1,480,640,3)\r\n",
        "    prediction = model.predict(item)\r\n",
        "    modelOutput.append(prediction[0][0])\r\n",
        "    prediction = round(prediction[0][0])\r\n",
        "    print(prediction)\r\n",
        "    print(testYforSteering[current])\r\n",
        "    totalPercentError+=(abs((testYforSteering[current]-prediction)/testYforSteering[current]))*100\r\n",
        "    current+=1\r\n",
        "print('done')\r\n",
        "print(totalPercentError/testX.shape[0])\r\n",
        "#print(testX.shape)\r\n",
        "\r\n"
      ],
      "outputs": [
        {
          "output_type": "stream",
          "name": "stdout",
          "text": [
            "58.0\n",
            "54\n",
            "60.0\n",
            "63\n",
            "60.0\n",
            "57\n",
            "56.0\n",
            "51\n",
            "55.0\n",
            "46\n",
            "57.0\n",
            "51\n",
            "60.0\n",
            "59\n",
            "60.0\n",
            "63\n",
            "58.0\n",
            "61\n",
            "56.0\n",
            "54\n",
            "56.0\n",
            "62\n",
            "56.0\n",
            "50\n",
            "61.0\n",
            "62\n",
            "58.0\n",
            "58\n",
            "56.0\n",
            "59\n",
            "59.0\n",
            "56\n",
            "56.0\n",
            "50\n",
            "58.0\n",
            "60\n",
            "60.0\n",
            "66\n",
            "58.0\n",
            "52\n",
            "57.0\n",
            "53\n",
            "58.0\n",
            "58\n",
            "60.0\n",
            "59\n",
            "55.0\n",
            "57\n",
            "57.0\n",
            "61\n",
            "57.0\n",
            "51\n",
            "58.0\n",
            "55\n",
            "56.0\n",
            "59\n",
            "59.0\n",
            "59\n",
            "57.0\n",
            "56\n",
            "60.0\n",
            "61\n",
            "59.0\n",
            "56\n",
            "56.0\n",
            "48\n",
            "57.0\n",
            "59\n",
            "56.0\n",
            "48\n",
            "58.0\n",
            "55\n",
            "57.0\n",
            "57\n",
            "61.0\n",
            "64\n",
            "57.0\n",
            "58\n",
            "56.0\n",
            "52\n",
            "59.0\n",
            "62\n",
            "58.0\n",
            "55\n",
            "60.0\n",
            "60\n",
            "60.0\n",
            "65\n",
            "56.0\n",
            "50\n",
            "58.0\n",
            "66\n",
            "57.0\n",
            "49\n",
            "58.0\n",
            "57\n",
            "58.0\n",
            "57\n",
            "57.0\n",
            "60\n",
            "59.0\n",
            "63\n",
            "60.0\n",
            "58\n",
            "58.0\n",
            "55\n",
            "62.0\n",
            "55\n",
            "61.0\n",
            "59\n",
            "61.0\n",
            "60\n",
            "61.0\n",
            "60\n",
            "57.0\n",
            "51\n",
            "56.0\n",
            "63\n",
            "56.0\n",
            "56\n",
            "61.0\n",
            "56\n",
            "60.0\n",
            "60\n",
            "57.0\n",
            "61\n",
            "56.0\n",
            "47\n",
            "60.0\n",
            "60\n",
            "56.0\n",
            "60\n",
            "58.0\n",
            "54\n",
            "59.0\n",
            "60\n",
            "56.0\n",
            "51\n",
            "56.0\n",
            "53\n",
            "57.0\n",
            "63\n",
            "61.0\n",
            "62\n",
            "57.0\n",
            "61\n",
            "56.0\n",
            "50\n",
            "56.0\n",
            "54\n",
            "56.0\n",
            "56\n",
            "58.0\n",
            "58\n",
            "56.0\n",
            "51\n",
            "59.0\n",
            "61\n",
            "57.0\n",
            "58\n",
            "58.0\n",
            "54\n",
            "58.0\n",
            "59\n",
            "56.0\n",
            "49\n",
            "62.0\n",
            "62\n",
            "57.0\n",
            "54\n",
            "57.0\n",
            "54\n",
            "59.0\n",
            "56\n",
            "56.0\n",
            "50\n",
            "56.0\n",
            "56\n",
            "58.0\n",
            "56\n",
            "61.0\n",
            "58\n",
            "57.0\n",
            "59\n",
            "60.0\n",
            "61\n",
            "59.0\n",
            "61\n",
            "56.0\n",
            "59\n",
            "58.0\n",
            "56\n",
            "60.0\n",
            "58\n",
            "56.0\n",
            "55\n",
            "58.0\n",
            "55\n",
            "58.0\n",
            "52\n",
            "56.0\n",
            "50\n",
            "60.0\n",
            "57\n",
            "57.0\n",
            "58\n",
            "60.0\n",
            "67\n",
            "62.0\n",
            "57\n",
            "57.0\n",
            "58\n",
            "62.0\n",
            "64\n",
            "56.0\n",
            "50\n",
            "56.0\n",
            "66\n",
            "61.0\n",
            "64\n",
            "56.0\n",
            "62\n",
            "61.0\n",
            "64\n",
            "60.0\n",
            "65\n",
            "56.0\n",
            "56\n",
            "59.0\n",
            "61\n",
            "59.0\n",
            "61\n",
            "56.0\n",
            "57\n",
            "59.0\n",
            "61\n",
            "56.0\n",
            "58\n",
            "60.0\n",
            "60\n",
            "57.0\n",
            "53\n",
            "61.0\n",
            "63\n",
            "59.0\n",
            "55\n",
            "56.0\n",
            "58\n",
            "56.0\n",
            "61\n",
            "56.0\n",
            "54\n",
            "57.0\n",
            "55\n",
            "56.0\n",
            "56\n",
            "57.0\n",
            "53\n",
            "60.0\n",
            "64\n",
            "57.0\n",
            "57\n",
            "58.0\n",
            "53\n",
            "59.0\n",
            "62\n",
            "62.0\n",
            "65\n",
            "58.0\n",
            "52\n",
            "59.0\n",
            "62\n",
            "58.0\n",
            "58\n",
            "59.0\n",
            "59\n",
            "62.0\n",
            "56\n",
            "58.0\n",
            "54\n",
            "56.0\n",
            "62\n",
            "59.0\n",
            "60\n",
            "57.0\n",
            "63\n",
            "58.0\n",
            "53\n",
            "58.0\n",
            "56\n",
            "58.0\n",
            "56\n",
            "59.0\n",
            "58\n",
            "58.0\n",
            "58\n",
            "60.0\n",
            "54\n",
            "60.0\n",
            "59\n",
            "59.0\n",
            "65\n",
            "59.0\n",
            "57\n",
            "57.0\n",
            "67\n",
            "57.0\n",
            "55\n",
            "62.0\n",
            "63\n",
            "56.0\n",
            "54\n",
            "61.0\n",
            "59\n",
            "61.0\n",
            "65\n",
            "62.0\n",
            "58\n",
            "57.0\n",
            "54\n",
            "57.0\n",
            "61\n",
            "57.0\n",
            "54\n",
            "58.0\n",
            "58\n",
            "56.0\n",
            "51\n",
            "57.0\n",
            "52\n",
            "56.0\n",
            "56\n",
            "61.0\n",
            "58\n",
            "56.0\n",
            "50\n",
            "58.0\n",
            "55\n",
            "57.0\n",
            "54\n",
            "60.0\n",
            "62\n",
            "60.0\n",
            "70\n",
            "56.0\n",
            "63\n",
            "61.0\n",
            "59\n",
            "60.0\n",
            "55\n",
            "57.0\n",
            "63\n",
            "56.0\n",
            "50\n",
            "57.0\n",
            "49\n",
            "58.0\n",
            "58\n",
            "61.0\n",
            "57\n",
            "62.0\n",
            "58\n",
            "59.0\n",
            "59\n",
            "61.0\n",
            "56\n",
            "56.0\n",
            "51\n",
            "60.0\n",
            "60\n",
            "57.0\n",
            "54\n",
            "56.0\n",
            "54\n",
            "56.0\n",
            "56\n",
            "60.0\n",
            "62\n",
            "60.0\n",
            "68\n",
            "56.0\n",
            "50\n",
            "57.0\n",
            "60\n",
            "57.0\n",
            "61\n",
            "57.0\n",
            "56\n",
            "56.0\n",
            "51\n",
            "56.0\n",
            "54\n",
            "56.0\n",
            "58\n",
            "57.0\n",
            "53\n",
            "57.0\n",
            "53\n",
            "60.0\n",
            "59\n",
            "58.0\n",
            "55\n",
            "60.0\n",
            "59\n",
            "56.0\n",
            "54\n",
            "61.0\n",
            "65\n",
            "57.0\n",
            "55\n",
            "57.0\n",
            "54\n",
            "58.0\n",
            "56\n",
            "56.0\n",
            "61\n",
            "56.0\n",
            "51\n",
            "60.0\n",
            "58\n",
            "60.0\n",
            "57\n",
            "56.0\n",
            "48\n",
            "56.0\n",
            "54\n",
            "57.0\n",
            "52\n",
            "56.0\n",
            "53\n",
            "61.0\n",
            "58\n",
            "57.0\n",
            "55\n",
            "56.0\n",
            "54\n",
            "57.0\n",
            "54\n",
            "56.0\n",
            "49\n",
            "58.0\n",
            "60\n",
            "58.0\n",
            "54\n",
            "62.0\n",
            "59\n",
            "62.0\n",
            "57\n",
            "59.0\n",
            "58\n",
            "59.0\n",
            "62\n",
            "60.0\n",
            "58\n",
            "59.0\n",
            "59\n",
            "56.0\n",
            "52\n",
            "56.0\n",
            "52\n",
            "60.0\n",
            "59\n",
            "59.0\n",
            "59\n",
            "57.0\n",
            "56\n",
            "60.0\n",
            "55\n",
            "56.0\n",
            "51\n",
            "59.0\n",
            "56\n",
            "59.0\n",
            "56\n",
            "56.0\n",
            "57\n",
            "58.0\n",
            "57\n",
            "55.0\n",
            "49\n",
            "59.0\n",
            "57\n",
            "58.0\n",
            "55\n",
            "56.0\n",
            "50\n",
            "56.0\n",
            "55\n",
            "59.0\n",
            "61\n",
            "56.0\n",
            "59\n",
            "61.0\n",
            "59\n",
            "58.0\n",
            "54\n",
            "58.0\n",
            "55\n",
            "61.0\n",
            "66\n",
            "56.0\n",
            "53\n",
            "56.0\n",
            "54\n",
            "56.0\n",
            "50\n",
            "60.0\n",
            "60\n",
            "56.0\n",
            "66\n",
            "57.0\n",
            "54\n",
            "60.0\n",
            "56\n",
            "56.0\n",
            "48\n",
            "56.0\n",
            "56\n",
            "56.0\n",
            "48\n",
            "57.0\n",
            "60\n",
            "60.0\n",
            "65\n",
            "56.0\n",
            "52\n",
            "57.0\n",
            "52\n",
            "60.0\n",
            "86\n",
            "56.0\n",
            "48\n",
            "56.0\n",
            "49\n",
            "61.0\n",
            "57\n",
            "57.0\n",
            "52\n",
            "58.0\n",
            "54\n",
            "58.0\n",
            "56\n",
            "56.0\n",
            "55\n",
            "60.0\n",
            "66\n",
            "58.0\n",
            "56\n",
            "57.0\n",
            "53\n",
            "59.0\n",
            "54\n",
            "59.0\n",
            "59\n",
            "58.0\n",
            "51\n",
            "57.0\n",
            "52\n",
            "59.0\n",
            "65\n",
            "56.0\n",
            "57\n",
            "57.0\n",
            "53\n",
            "58.0\n",
            "53\n",
            "60.0\n",
            "55\n",
            "60.0\n",
            "60\n",
            "61.0\n",
            "63\n",
            "58.0\n",
            "56\n",
            "59.0\n",
            "59\n",
            "56.0\n",
            "55\n",
            "56.0\n",
            "53\n",
            "60.0\n",
            "62\n",
            "59.0\n",
            "52\n",
            "58.0\n",
            "54\n",
            "58.0\n",
            "57\n",
            "56.0\n",
            "53\n",
            "56.0\n",
            "59\n",
            "58.0\n",
            "56\n",
            "59.0\n",
            "58\n",
            "59.0\n",
            "57\n",
            "56.0\n",
            "62\n",
            "61.0\n",
            "67\n",
            "57.0\n",
            "60\n",
            "57.0\n",
            "57\n",
            "56.0\n",
            "49\n",
            "58.0\n",
            "54\n",
            "59.0\n",
            "59\n",
            "59.0\n",
            "62\n",
            "59.0\n",
            "61\n",
            "60.0\n",
            "58\n",
            "58.0\n",
            "62\n",
            "56.0\n",
            "57\n",
            "58.0\n",
            "54\n",
            "57.0\n",
            "58\n",
            "61.0\n",
            "61\n",
            "56.0\n",
            "59\n",
            "59.0\n",
            "57\n",
            "58.0\n",
            "55\n",
            "58.0\n",
            "53\n",
            "56.0\n",
            "54\n",
            "57.0\n",
            "53\n",
            "59.0\n",
            "60\n",
            "56.0\n",
            "51\n",
            "60.0\n",
            "62\n",
            "59.0\n",
            "58\n",
            "62.0\n",
            "68\n",
            "56.0\n",
            "51\n",
            "57.0\n",
            "59\n",
            "60.0\n",
            "62\n",
            "62.0\n",
            "56\n",
            "56.0\n",
            "55\n",
            "60.0\n",
            "59\n",
            "57.0\n",
            "53\n",
            "61.0\n",
            "66\n",
            "59.0\n",
            "61\n",
            "60.0\n",
            "57\n",
            "60.0\n",
            "64\n",
            "59.0\n",
            "58\n",
            "57.0\n",
            "60\n",
            "58.0\n",
            "56\n",
            "60.0\n",
            "63\n",
            "56.0\n",
            "54\n",
            "56.0\n",
            "56\n",
            "60.0\n",
            "58\n",
            "59.0\n",
            "60\n",
            "62.0\n",
            "60\n",
            "57.0\n",
            "52\n",
            "61.0\n",
            "64\n",
            "61.0\n",
            "62\n",
            "62.0\n",
            "58\n",
            "61.0\n",
            "56\n",
            "59.0\n",
            "62\n",
            "56.0\n",
            "51\n",
            "59.0\n",
            "57\n",
            "56.0\n",
            "57\n",
            "56.0\n",
            "47\n",
            "58.0\n",
            "57\n",
            "58.0\n",
            "57\n",
            "57.0\n",
            "54\n",
            "61.0\n",
            "57\n",
            "57.0\n",
            "51\n",
            "57.0\n",
            "56\n",
            "57.0\n",
            "56\n",
            "59.0\n",
            "55\n",
            "60.0\n",
            "57\n",
            "56.0\n",
            "58\n",
            "60.0\n",
            "57\n",
            "58.0\n",
            "64\n",
            "56.0\n",
            "54\n",
            "56.0\n",
            "48\n",
            "60.0\n",
            "65\n",
            "56.0\n",
            "58\n",
            "60.0\n",
            "62\n",
            "56.0\n",
            "55\n",
            "57.0\n",
            "59\n",
            "56.0\n",
            "49\n",
            "60.0\n",
            "59\n",
            "56.0\n",
            "57\n",
            "60.0\n",
            "63\n",
            "58.0\n",
            "56\n",
            "60.0\n",
            "58\n",
            "56.0\n",
            "58\n",
            "57.0\n",
            "49\n",
            "58.0\n",
            "77\n",
            "59.0\n",
            "60\n",
            "59.0\n",
            "61\n",
            "59.0\n",
            "56\n",
            "57.0\n",
            "57\n",
            "60.0\n",
            "63\n",
            "56.0\n",
            "53\n",
            "57.0\n",
            "53\n",
            "60.0\n",
            "59\n",
            "58.0\n",
            "61\n",
            "59.0\n",
            "60\n",
            "60.0\n",
            "50\n",
            "62.0\n",
            "62\n",
            "60.0\n",
            "56\n",
            "57.0\n",
            "53\n",
            "58.0\n",
            "60\n",
            "56.0\n",
            "57\n",
            "57.0\n",
            "53\n",
            "56.0\n",
            "61\n",
            "61.0\n",
            "61\n",
            "59.0\n",
            "56\n",
            "59.0\n",
            "58\n",
            "56.0\n",
            "51\n",
            "57.0\n",
            "55\n",
            "56.0\n",
            "52\n",
            "58.0\n",
            "59\n",
            "56.0\n",
            "60\n",
            "61.0\n",
            "59\n",
            "58.0\n",
            "54\n",
            "59.0\n",
            "60\n",
            "60.0\n",
            "62\n",
            "58.0\n",
            "59\n",
            "62.0\n",
            "61\n",
            "61.0\n",
            "67\n",
            "60.0\n",
            "53\n",
            "58.0\n",
            "55\n",
            "56.0\n",
            "57\n",
            "57.0\n",
            "56\n",
            "56.0\n",
            "50\n",
            "57.0\n",
            "56\n",
            "60.0\n",
            "62\n",
            "56.0\n",
            "61\n",
            "60.0\n",
            "57\n",
            "56.0\n",
            "50\n",
            "56.0\n",
            "55\n",
            "58.0\n",
            "54\n",
            "59.0\n",
            "58\n",
            "57.0\n",
            "55\n",
            "56.0\n",
            "55\n",
            "57.0\n",
            "57\n",
            "56.0\n",
            "53\n",
            "56.0\n",
            "48\n",
            "58.0\n",
            "56\n",
            "57.0\n",
            "52\n",
            "56.0\n",
            "48\n",
            "60.0\n",
            "61\n",
            "56.0\n",
            "57\n",
            "61.0\n",
            "62\n",
            "60.0\n",
            "61\n",
            "56.0\n",
            "50\n",
            "61.0\n",
            "62\n",
            "58.0\n",
            "53\n",
            "56.0\n",
            "56\n",
            "57.0\n",
            "58\n",
            "56.0\n",
            "49\n",
            "61.0\n",
            "57\n",
            "56.0\n",
            "51\n",
            "58.0\n",
            "56\n",
            "57.0\n",
            "55\n",
            "59.0\n",
            "57\n",
            "55.0\n",
            "58\n",
            "61.0\n",
            "64\n",
            "60.0\n",
            "65\n",
            "57.0\n",
            "53\n",
            "56.0\n",
            "52\n",
            "58.0\n",
            "59\n",
            "58.0\n",
            "59\n",
            "61.0\n",
            "64\n",
            "60.0\n",
            "66\n",
            "62.0\n",
            "57\n",
            "62.0\n",
            "59\n",
            "57.0\n",
            "55\n",
            "56.0\n",
            "51\n",
            "57.0\n",
            "50\n",
            "60.0\n",
            "62\n",
            "56.0\n",
            "55\n",
            "58.0\n",
            "55\n",
            "60.0\n",
            "62\n",
            "56.0\n",
            "56\n",
            "58.0\n",
            "56\n",
            "60.0\n",
            "60\n",
            "61.0\n",
            "56\n",
            "58.0\n",
            "55\n",
            "57.0\n",
            "60\n",
            "57.0\n",
            "52\n",
            "59.0\n",
            "61\n",
            "60.0\n",
            "55\n",
            "60.0\n",
            "60\n",
            "61.0\n",
            "55\n",
            "61.0\n",
            "61\n",
            "58.0\n",
            "58\n",
            "56.0\n",
            "58\n",
            "57.0\n",
            "60\n",
            "62.0\n",
            "60\n",
            "59.0\n",
            "60\n",
            "58.0\n",
            "55\n",
            "56.0\n",
            "56\n",
            "58.0\n",
            "53\n",
            "61.0\n",
            "70\n",
            "58.0\n",
            "55\n",
            "60.0\n",
            "57\n",
            "57.0\n",
            "53\n",
            "59.0\n",
            "57\n",
            "60.0\n",
            "61\n",
            "60.0\n",
            "65\n",
            "57.0\n",
            "53\n",
            "57.0\n",
            "56\n",
            "62.0\n",
            "57\n",
            "59.0\n",
            "58\n",
            "56.0\n",
            "51\n",
            "61.0\n",
            "60\n",
            "56.0\n",
            "56\n",
            "57.0\n",
            "51\n",
            "61.0\n",
            "64\n",
            "56.0\n",
            "55\n",
            "60.0\n",
            "60\n",
            "58.0\n",
            "55\n",
            "57.0\n",
            "51\n",
            "56.0\n",
            "50\n",
            "56.0\n",
            "48\n",
            "59.0\n",
            "56\n",
            "60.0\n",
            "61\n",
            "60.0\n",
            "57\n",
            "56.0\n",
            "52\n",
            "59.0\n",
            "59\n",
            "58.0\n",
            "55\n",
            "56.0\n",
            "49\n",
            "61.0\n",
            "62\n",
            "56.0\n",
            "49\n",
            "60.0\n",
            "59\n",
            "57.0\n",
            "50\n",
            "56.0\n",
            "54\n",
            "58.0\n",
            "57\n",
            "58.0\n",
            "54\n",
            "59.0\n",
            "58\n",
            "57.0\n",
            "55\n",
            "59.0\n",
            "63\n",
            "57.0\n",
            "59\n",
            "57.0\n",
            "70\n",
            "60.0\n",
            "58\n",
            "61.0\n",
            "61\n",
            "60.0\n",
            "59\n",
            "58.0\n",
            "57\n",
            "60.0\n",
            "62\n",
            "57.0\n",
            "57\n",
            "57.0\n",
            "52\n",
            "56.0\n",
            "55\n",
            "56.0\n",
            "53\n",
            "56.0\n",
            "61\n",
            "59.0\n",
            "58\n",
            "57.0\n",
            "51\n",
            "61.0\n",
            "58\n",
            "61.0\n",
            "61\n",
            "60.0\n",
            "56\n",
            "58.0\n",
            "60\n",
            "60.0\n",
            "64\n",
            "58.0\n",
            "57\n",
            "57.0\n",
            "50\n",
            "59.0\n",
            "57\n",
            "58.0\n",
            "57\n",
            "56.0\n",
            "55\n",
            "61.0\n",
            "60\n",
            "58.0\n",
            "52\n",
            "57.0\n",
            "56\n",
            "60.0\n",
            "57\n",
            "58.0\n",
            "60\n",
            "58.0\n",
            "60\n",
            "56.0\n",
            "49\n",
            "56.0\n",
            "53\n",
            "59.0\n",
            "56\n",
            "56.0\n",
            "57\n",
            "59.0\n",
            "58\n",
            "62.0\n",
            "62\n",
            "59.0\n",
            "53\n",
            "57.0\n",
            "64\n",
            "57.0\n",
            "52\n",
            "61.0\n",
            "56\n",
            "56.0\n",
            "61\n",
            "60.0\n",
            "67\n",
            "56.0\n",
            "55\n",
            "56.0\n",
            "59\n",
            "62.0\n",
            "59\n",
            "58.0\n",
            "55\n",
            "59.0\n",
            "56\n",
            "58.0\n",
            "55\n",
            "60.0\n",
            "62\n",
            "56.0\n",
            "52\n",
            "57.0\n",
            "60\n",
            "60.0\n",
            "61\n",
            "60.0\n",
            "60\n",
            "60.0\n",
            "55\n",
            "61.0\n",
            "57\n",
            "59.0\n",
            "62\n",
            "58.0\n",
            "57\n",
            "59.0\n",
            "53\n",
            "58.0\n",
            "58\n",
            "60.0\n",
            "51\n",
            "60.0\n",
            "61\n",
            "56.0\n",
            "50\n",
            "57.0\n",
            "52\n",
            "56.0\n",
            "48\n",
            "56.0\n",
            "59\n",
            "60.0\n",
            "61\n",
            "61.0\n",
            "64\n",
            "56.0\n",
            "53\n",
            "56.0\n",
            "59\n",
            "56.0\n",
            "54\n",
            "61.0\n",
            "57\n",
            "done\n",
            "5.763406418243446\n"
          ]
        }
      ],
      "execution_count": 22,
      "metadata": {
        "collapsed": true,
        "jupyter": {
          "source_hidden": false,
          "outputs_hidden": false
        },
        "nteract": {
          "transient": {
            "deleting": false
          }
        },
        "gather": {
          "logged": 1617896678215
        }
      }
    },
    {
      "cell_type": "code",
      "source": [
        "model = load_model('laneNavModelSteering.h5')\r\n",
        "testImagePlace = 'imagesSingle/00b06ca5-e29b-44fa-944c-6c52578d1737.png'\r\n",
        "testImageYamlPlace = 'yamlSingle/00b06ca5-e29b-44fa-944c-6c52578d1737.yaml'\r\n",
        "\r\n",
        "dictYaml = {}\r\n",
        "\r\n",
        "img = numpy.array(Image.open(testImagePlace))\r\n",
        "img = img.astype('float32')\r\n",
        "img = img/255\r\n",
        "\r\n",
        "images = []\r\n",
        "images.append(img)\r\n",
        "\r\n",
        "images = numpy.array(images)\r\n",
        "\r\n",
        "with open(os.fsdecode(testImageYamlPlace)) as filey:\r\n",
        "    dictYaml = yaml.safe_load(filey)\r\n",
        "    #print(dictYaml)\r\n",
        "print(dictYaml['steering_angle'])\r\n",
        "\r\n",
        "for img1 in images:\r\n",
        "    img1 = img1.reshape(1,480,640,3)\r\n",
        "    prediction = model.predict(img1)\r\n",
        "    print(prediction)"
      ],
      "outputs": [
        {
          "output_type": "stream",
          "name": "stdout",
          "text": [
            "58\n",
            "58\n",
            "[[59.388702]]\n",
            "[[59.388702]]\n"
          ]
        }
      ],
      "execution_count": 25,
      "metadata": {
        "collapsed": true,
        "jupyter": {
          "source_hidden": false,
          "outputs_hidden": false
        },
        "nteract": {
          "transient": {
            "deleting": false
          }
        },
        "gather": {
          "logged": 1617898053629
        }
      }
    },
    {
      "cell_type": "code",
      "source": [
        "#for yaml in testYforSteering:\r\n",
        "testYforSteering100 = testYforSteering[1:100]\r\n",
        "modelOutput100 = modelOutput[1:100]\r\n",
        "pyplot.plot(testYforSteering100, color = 'green', lw = 0.5) \r\n",
        "\r\n",
        "#for param in modelOutput:\r\n",
        "pyplot.plot(modelOutput100, color = 'red', lw = 0.5 )\r\n",
        "\r\n",
        "pyplot.legend(['Real', 'Output'])"
      ],
      "outputs": [
        {
          "output_type": "execute_result",
          "execution_count": 26,
          "data": {
            "text/plain": "<matplotlib.legend.Legend at 0x7fd6f05e0518>"
          },
          "metadata": {}
        },
        {
          "output_type": "display_data",
          "data": {
            "text/plain": "<Figure size 432x288 with 1 Axes>",
            "image/png": "[encoded data removed]"
          },
          "metadata": {
            "needs_background": "light"
          }
        }
      ],
      "execution_count": 26,
      "metadata": {
        "collapsed": true,
        "jupyter": {
          "source_hidden": false,
          "outputs_hidden": false
        },
        "nteract": {
          "transient": {
            "deleting": false
          }
        },
        "gather": {
          "logged": 1617898069932
        }
      }
    }
  ],
  "metadata": {
    "kernelspec": {
      "name": "python3-azureml",
      "language": "python",
      "display_name": "Python 3.6 - AzureML"
    },
    "language_info": {
      "name": "python",
      "version": "3.6.9",
      "mimetype": "text/x-python",
      "codemirror_mode": {
        "name": "ipython",
        "version": 3
      },
      "pygments_lexer": "ipython3",
      "nbconvert_exporter": "python",
      "file_extension": ".py"
    },
    "kernel_info": {
      "name": "python3-azureml"
    },
    "nteract": {
      "version": "nteract-front-end@1.0.0"
    },
    "microsoft": {
      "host": {
        "AzureML": {
          "notebookHasBeenCompleted": true
        }
      }
    }
  },
  "nbformat": 4,
  "nbformat_minor": 2
}
