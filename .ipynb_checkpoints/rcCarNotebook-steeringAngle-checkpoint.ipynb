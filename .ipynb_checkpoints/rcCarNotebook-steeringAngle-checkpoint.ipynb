{
 "cells": [
  {
   "cell_type": "markdown",
   "metadata": {},
   "source": [
    "# RC Car steering angle"
   ]
  },
  {
   "cell_type": "markdown",
   "metadata": {},
   "source": [
    "## Next two code cells\n",
    "These are just import statements for everything we're going to need"
   ]
  },
  {
   "cell_type": "code",
   "execution_count": null,
   "metadata": {
    "gather": {
     "logged": 1617830324633
    }
   },
   "outputs": [],
   "source": [
    "import sys\n",
    "from matplotlib import pyplot\n",
    "import os\n",
    "import azureml\n",
    "from azureml.core import Experiment\n",
    "from azureml.core import Environment\n",
    "from azureml.core import Workspace, Datastore, Dataset\n",
    "ws = Workspace.from_config()\n",
    "print(\"Azure ML SDK Version: \", azureml.core.VERSION)\n",
    "print(ws.name, ws.location, ws.resource_group, sep='\\t')\n",
    "from azureml.core import Experiment\n",
    "from azureml.core.compute import ComputeTarget, AmlCompute\n",
    "from azureml.core.compute_target import ComputeTargetException\n",
    "from azureml.core.conda_dependencies import CondaDependencies"
   ]
  },
  {
   "cell_type": "code",
   "execution_count": null,
   "metadata": {
    "gather": {
     "logged": 1617830327241
    },
    "jupyter": {
     "outputs_hidden": false,
     "source_hidden": false
    },
    "nteract": {
     "transient": {
      "deleting": false
     }
    }
   },
   "outputs": [],
   "source": [
    "import tensorflow as tf\n",
    "import keras\n",
    "from keras.utils import to_categorical\n",
    "from keras.models import Sequential, load_model\n",
    "from keras.layers import Conv2D\n",
    "from keras.layers import MaxPooling2D\n",
    "from keras.layers import Dense\n",
    "from keras.layers import Flatten\n",
    "from keras.layers import MaxPool2D, MaxPooling2D, Dropout, BatchNormalization\n",
    "from keras.optimizers import SGD\n",
    "from keras.preprocessing.image import ImageDataGenerator\n",
    "from keras.layers import Dropout\n",
    "from keras.optimizers import SGD, Adam\n",
    "import sqlite3\n",
    "import yaml\n",
    "import csv\n",
    "import numpy\n",
    "import math\n",
    "import cv2\n",
    "from PIL import Image"
   ]
  },
  {
   "cell_type": "markdown",
   "metadata": {},
   "source": [
    "## This was to import all of the files into my azure workspace from a datastore I made\n",
    "I commented out the lines that actually imported the files since I didn't want it to run every time I restarted the kernel and ran all the cells"
   ]
  },
  {
   "cell_type": "code",
   "execution_count": null,
   "metadata": {
    "gather": {
     "logged": 1617830329001
    },
    "jupyter": {
     "outputs_hidden": false,
     "source_hidden": false
    },
    "nteract": {
     "transient": {
      "deleting": false
     }
    }
   },
   "outputs": [],
   "source": [
    "from azureml.core import Workspace, Dataset\n",
    "\n",
    "subscription_id = '103da3c6-1089-4d2b-8b1d-5159e8f5ffc5'\n",
    "resource_group = 'RG_Machine_Learning'\n",
    "workspace_name = 'MachineLearningLab'\n",
    "\n",
    "workspace = Workspace(subscription_id, resource_group, workspace_name)\n",
    "\n",
    "#datasetImages = Dataset.get_by_name(workspace, name='singleLane1000Images')\n",
    "#datasetImages.download(target_path='./imagesSingle', overwrite=True)\n",
    "\n",
    "#datasetYaml = Dataset.get_by_name(workspace, name='singleLand1000Yaml')\n",
    "#datasetYaml.download(target_path='./yamlSingle', overwrite=True)\n",
    "\n",
    "#datasetImages = Dataset.get_by_name(workspace, name='100roadImages')\n",
    "#datasetImages.download(target_path='./test', overwrite=True)\n"
   ]
  },
  {
   "cell_type": "markdown",
   "metadata": {},
   "source": [
    "## Loads in all data from the files\n",
    "If you're running this locally, make sure to change the file paths to match yours"
   ]
  },
  {
   "cell_type": "code",
   "execution_count": null,
   "metadata": {
    "gather": {
     "logged": 1617896635625
    },
    "jupyter": {
     "outputs_hidden": false,
     "source_hidden": false
    },
    "nteract": {
     "transient": {
      "deleting": false
     }
    }
   },
   "outputs": [],
   "source": [
    "#this takes about 7 minutes to run: loads in all the data from the files \n",
    "img_array = []\n",
    "dictYaml = []\n",
    "fileYaml = ''\n",
    "listOfEverything = []\n",
    "data_tuple = ()\n",
    "counter = 0\n",
    "for fileImg in os.listdir('imagesSingle'):\n",
    "    #print(fileImg)\n",
    "    imageFilePlace = 'imagesSingle/'+fileImg\n",
    "    fileYaml = fileImg[:-4]+'.yaml'\n",
    "    yamlFilePlace = 'yamlSingle/'+fileYaml\n",
    "    #print(fileYaml)\n",
    "    with open(os.fsdecode(yamlFilePlace)) as filey:\n",
    "        dictYaml = yaml.safe_load(filey)\n",
    "        #print(dictYaml)\n",
    "    img = Image.open(imageFilePlace)\n",
    "    img_array = numpy.array(img)\n",
    "    data_tuple = (img_array, dictYaml)\n",
    "    listOfEverything.append(data_tuple)\n",
    "    print(counter)\n",
    "    counter+=1"
   ]
  },
  {
   "cell_type": "markdown",
   "metadata": {},
   "source": [
    "## More imports"
   ]
  },
  {
   "cell_type": "code",
   "execution_count": null,
   "metadata": {
    "gather": {
     "logged": 1617896640560
    },
    "jupyter": {
     "outputs_hidden": false,
     "source_hidden": false
    },
    "nteract": {
     "transient": {
      "deleting": false
     }
    }
   },
   "outputs": [],
   "source": [
    "import random\n",
    "import pickle\n",
    "import sklearn\n",
    "from sklearn.utils import shuffle\n",
    "from sklearn.model_selection import train_test_split\n",
    "from cv2 import cvtColor, GaussianBlur\n",
    "from PIL import Image\n",
    "print(\"Tensorflow version \" + tf.__version__)\n",
    "print('Keras Version '+ keras.__version__)\n",
    "print(\"Running on GPU:\", tf.test.is_built_with_cuda())\n",
    "print(\"Num GPUs Available: \", len(tf.config.experimental.list_physical_devices('GPU')))\n",
    "\n",
    "#DO THIS WHEN YOUR COMPUTE HAS GPU POWER\n",
    "#gpus= tf.config.experimental.list_physical_devices('GPU')\n",
    "#tf.config.experimental.set_memory_growth(gpus[0], True)"
   ]
  },
  {
   "cell_type": "markdown",
   "metadata": {},
   "source": [
    "## The following cells use the listOfEverything to make lists of each parameter"
   ]
  },
  {
   "cell_type": "code",
   "execution_count": null,
   "metadata": {
    "gather": {
     "logged": 1617830673923
    },
    "jupyter": {
     "outputs_hidden": false,
     "source_hidden": false
    },
    "nteract": {
     "transient": {
      "deleting": false
     }
    }
   },
   "outputs": [],
   "source": [
    "def makeListOfX0(listEverything):\n",
    "    listX0 = []\n",
    "    for item in listEverything:\n",
    "        listX0.append(item[1]['X0'])\n",
    "    return listX0"
   ]
  },
  {
   "cell_type": "code",
   "execution_count": null,
   "metadata": {
    "gather": {
     "logged": 1617896641146
    },
    "jupyter": {
     "outputs_hidden": false,
     "source_hidden": false
    },
    "nteract": {
     "transient": {
      "deleting": false
     }
    }
   },
   "outputs": [],
   "source": [
    "def makeListOfYAW0(listEverything):\n",
    "    listYAW0 = []\n",
    "    for item in listEverything:\n",
    "        listYAW0.append(item[1]['YAW0'])\n",
    "    return listYAW0"
   ]
  },
  {
   "cell_type": "code",
   "execution_count": null,
   "metadata": {
    "gather": {
     "logged": 1617896641378
    },
    "jupyter": {
     "outputs_hidden": false,
     "source_hidden": false
    },
    "nteract": {
     "transient": {
      "deleting": false
     }
    }
   },
   "outputs": [],
   "source": [
    "def makeListOfZ0(listEverything):\n",
    "    listZ0 = []\n",
    "    for item in listEverything:\n",
    "        listZ0.append(item[1]['Z0'])\n",
    "    return listZ0"
   ]
  },
  {
   "cell_type": "code",
   "execution_count": null,
   "metadata": {
    "gather": {
     "logged": 1617896641612
    },
    "jupyter": {
     "outputs_hidden": false,
     "source_hidden": false
    },
    "nteract": {
     "transient": {
      "deleting": false
     }
    }
   },
   "outputs": [],
   "source": [
    "def makeListOfCamHeight(listEverything):\n",
    "    listCamHeight = []\n",
    "    for item in listEverything:\n",
    "        listCamHeight.append(item[1]['cam_height'])\n",
    "    return listCamHeight"
   ]
  },
  {
   "cell_type": "code",
   "execution_count": null,
   "metadata": {
    "gather": {
     "logged": 1617896642278
    },
    "jupyter": {
     "outputs_hidden": false,
     "source_hidden": false
    },
    "nteract": {
     "transient": {
      "deleting": false
     }
    }
   },
   "outputs": [],
   "source": [
    "def makeListOfDy(listEverything):\n",
    "    listDy = []\n",
    "    for item in listEverything:\n",
    "        listDy.append(item[1]['dy'])\n",
    "    return listDy"
   ]
  },
  {
   "cell_type": "code",
   "execution_count": null,
   "metadata": {
    "gather": {
     "logged": 1617896642669
    },
    "jupyter": {
     "outputs_hidden": false,
     "source_hidden": false
    },
    "nteract": {
     "transient": {
      "deleting": false
     }
    }
   },
   "outputs": [],
   "source": [
    "def makeListOfFocalLength(listEverything):\n",
    "    listFocalLength = []\n",
    "    for item in listEverything:\n",
    "        listFocalLength.append(item[1]['focal_length'])\n",
    "    return listFocalLength"
   ]
  },
  {
   "cell_type": "code",
   "execution_count": null,
   "metadata": {
    "gather": {
     "logged": 1617896642949
    },
    "jupyter": {
     "outputs_hidden": false,
     "source_hidden": false
    },
    "nteract": {
     "transient": {
      "deleting": false
     }
    }
   },
   "outputs": [],
   "source": [
    "def makeListOfInvRad(listEverything):\n",
    "    listInvRad = []\n",
    "    for item in listEverything:\n",
    "        listInvRad.append(item[1]['inv_rad'])\n",
    "    return listInvRad"
   ]
  },
  {
   "cell_type": "code",
   "execution_count": null,
   "metadata": {
    "gather": {
     "logged": 1617901714786
    },
    "jupyter": {
     "outputs_hidden": false,
     "source_hidden": false
    },
    "nteract": {
     "transient": {
      "deleting": false
     }
    }
   },
   "outputs": [],
   "source": [
    "def makeListOfRoadWidth(listEverything):\n",
    "    listRoadWidth = []\n",
    "    for item in listEverything:\n",
    "        listRoadWidth.append(item[1]['road_width'])\n",
    "    return listRoadWidth"
   ]
  },
  {
   "cell_type": "code",
   "execution_count": null,
   "metadata": {
    "gather": {
     "logged": 1617896643363
    },
    "jupyter": {
     "outputs_hidden": false,
     "source_hidden": false
    },
    "nteract": {
     "transient": {
      "deleting": false
     }
    }
   },
   "outputs": [],
   "source": [
    "def makeListOfStraight(listEverything):\n",
    "    listStraight = []\n",
    "    for item in listEverything:\n",
    "        listStraight.append(item[1]['straight'])\n",
    "    return listStraight"
   ]
  },
  {
   "cell_type": "code",
   "execution_count": null,
   "metadata": {
    "gather": {
     "logged": 1617896643865
    },
    "jupyter": {
     "outputs_hidden": false,
     "source_hidden": false
    },
    "nteract": {
     "transient": {
      "deleting": false
     }
    }
   },
   "outputs": [],
   "source": [
    "def makeListOfSteeringAngle(listEverything):\n",
    "    listSteering = []\n",
    "    for item in listEverything:\n",
    "        listSteering.append(item[1]['steering_angle'])\n",
    "    return listSteering"
   ]
  },
  {
   "cell_type": "code",
   "execution_count": null,
   "metadata": {
    "gather": {
     "logged": 1617896644302
    },
    "jupyter": {
     "outputs_hidden": false,
     "source_hidden": false
    },
    "nteract": {
     "transient": {
      "deleting": false
     }
    }
   },
   "outputs": [],
   "source": [
    "def makeImageList(listEverything):\n",
    "    imList = []\n",
    "    for item in listEverything:\n",
    "        imList.append(item[0])\n",
    "    return imList"
   ]
  },
  {
   "cell_type": "code",
   "execution_count": null,
   "metadata": {
    "gather": {
     "logged": 1617896644589
    },
    "jupyter": {
     "outputs_hidden": false,
     "source_hidden": false
    },
    "nteract": {
     "transient": {
      "deleting": false
     }
    }
   },
   "outputs": [],
   "source": [
    "def trainAndTestSplit(listEverything, splitPercent):\n",
    "    train, test = train_test_split(listEverything, test_size = splitPercent)\n",
    "    return train, test"
   ]
  },
  {
   "cell_type": "code",
   "execution_count": null,
   "metadata": {
    "gather": {
     "logged": 1617896645022
    },
    "jupyter": {
     "outputs_hidden": false,
     "source_hidden": false
    },
    "nteract": {
     "transient": {
      "deleting": false
     }
    }
   },
   "outputs": [],
   "source": [
    "def prepPixels(listEverything):\n",
    "    listNew = []\n",
    "    current = 0\n",
    "    for item in listEverything:\n",
    "        itemNew0 = item[0].astype('float32')\n",
    "        itemNew0 = item[0]/255\n",
    "        item_tuple = (itemNew0, item[1])\n",
    "        current+=1\n",
    "        #print(current)\n",
    "        listNew.append(item_tuple)\n",
    "    return listNew"
   ]
  },
  {
   "cell_type": "code",
   "execution_count": null,
   "metadata": {
    "gather": {
     "logged": 1617896645283
    },
    "jupyter": {
     "outputs_hidden": false,
     "source_hidden": false
    },
    "nteract": {
     "transient": {
      "deleting": false
     }
    }
   },
   "outputs": [],
   "source": [
    "import time\n",
    "def runTime(startTime):\n",
    "    currentTime = time.perf_counter()\n",
    "    hours = (int)((currentTime - startTime) / 3600)\n",
    "    minutes = (int)(((currentTime - startTime) - (3600 * hours)) / 60)\n",
    "    seconds = (int)((currentTime - startTime) - (3600 * hours) - (60 * minutes))\n",
    "    \n",
    "    print(\"\\n__Time__\", \"\\nHours:\", hours, \"\\nMinutes:\", minutes, \"\\nSeconds:\", seconds)"
   ]
  },
  {
   "cell_type": "code",
   "execution_count": null,
   "metadata": {
    "gather": {
     "logged": 1617896650840
    },
    "jupyter": {
     "outputs_hidden": false,
     "source_hidden": false
    },
    "nteract": {
     "transient": {
      "deleting": false
     }
    }
   },
   "outputs": [],
   "source": [
    "#only run once per start\n",
    "list0 = prepPixels(listOfEverything)\n",
    " "
   ]
  },
  {
   "cell_type": "markdown",
   "metadata": {},
   "source": [
    "## Splits into train, test and cross validation sets"
   ]
  },
  {
   "cell_type": "code",
   "execution_count": null,
   "metadata": {
    "gather": {
     "logged": 1617896660396
    },
    "jupyter": {
     "outputs_hidden": false,
     "source_hidden": false
    },
    "nteract": {
     "transient": {
      "deleting": false
     }
    }
   },
   "outputs": [],
   "source": [
    "#only run once per kernel start\n",
    "train, test = trainAndTestSplit(list0, 0.4)\n",
    "\n",
    "trainX = numpy.array(makeImageList(train))\n",
    "\n",
    "trainYforSteering = makeListOfSteeringAngle(train)\n",
    "\n",
    "crossVal, test = trainAndTestSplit(test, 0.5)\n",
    "\n",
    "testX = numpy.array(makeImageList(test))\n",
    "\n",
    "\n",
    "testYforSteering = (makeListOfSteeringAngle(test))\n",
    "\n",
    "crossValX = numpy.array(makeImageList(crossVal))\n",
    "\n",
    "crossValYforSteering = (makeListOfSteeringAngle(crossVal))\n",
    "\n",
    "import gc\n",
    "del list0\n",
    "del train\n",
    "del test\n",
    "del crossVal\n",
    "gc.collect()\n"
   ]
  },
  {
   "cell_type": "markdown",
   "metadata": {},
   "source": [
    "## Creating the model\n",
    "If you want to adjust features from the model or anything like that, do so here"
   ]
  },
  {
   "cell_type": "code",
   "execution_count": null,
   "metadata": {
    "gather": {
     "logged": 1617896660704
    },
    "jupyter": {
     "outputs_hidden": false,
     "source_hidden": false
    },
    "nteract": {
     "transient": {
      "deleting": false
     }
    }
   },
   "outputs": [],
   "source": [
    "def modelCreate():\n",
    "    model =Sequential()\n",
    "\n",
    "    model.add(Conv2D(3, (5,5), strides=(2,2), input_shape = (480,640,3), activation='relu'))\n",
    "    \n",
    "    model.add(Dropout(0.2))\n",
    "\n",
    "\n",
    "    model.add(Conv2D(24, (5,5), strides=(2,2), activation='relu'))\n",
    "\n",
    "\n",
    "    model.add(Conv2D(36, (5,5), strides=(2,2), activation='relu'))\n",
    "\n",
    "\n",
    "    model.add(Conv2D(48, (3,3), strides=(2,2), activation='relu'))\n",
    "\n",
    "\n",
    "    model.add(Conv2D(64, (3,3), strides=(2,2), activation='relu'))\n",
    "\n",
    "    model.add(Flatten())\n",
    "\n",
    "    model.add(Dense(1164, activation='relu'))\n",
    "    model.add(Dense(100, activation='relu'))\n",
    "    model.add(Dense(50, activation='relu'))\n",
    "    model.add(Dense(10, activation='relu'))\n",
    "    \n",
    "    model.add(Dense(1))\n",
    "    \n",
    "    optimizer = Adam(lr=1e-3)\n",
    "    model.compile(loss='mse', optimizer=optimizer)\n",
    "        \n",
    "    print(model)\n",
    "\n",
    "    return model"
   ]
  },
  {
   "cell_type": "markdown",
   "metadata": {},
   "source": [
    "## Actually run the model"
   ]
  },
  {
   "cell_type": "code",
   "execution_count": null,
   "metadata": {
    "gather": {
     "logged": 1617832331077
    },
    "jupyter": {
     "outputs_hidden": false,
     "source_hidden": false
    },
    "nteract": {
     "transient": {
      "deleting": false
     }
    }
   },
   "outputs": [],
   "source": [
    "startTime = time.perf_counter()\n",
    "modelOutputDir = os.getcwd()\n",
    "\n",
    "model = modelCreate()\n",
    "print('Model has been created')\n",
    "\n",
    "datagen = ImageDataGenerator(width_shift_range=0.1, height_shift_range=0.1, horizontal_flip=False)\n",
    "datagen.fit(trainX)\n",
    "itTrain = datagen.flow(trainX, trainYforSteering, batch_size=32)\n",
    "steps = int(trainX.shape[0] / 32)\n",
    "checkpointCallback = tf.keras.callbacks.ModelCheckpoint(filepath=os.path.join(modelOutputDir, 'laneNavModelSteering.h5'), verbose=1, save_best_only=True)\n",
    "print('checkpoint callback done')\n",
    "\n",
    "history = model.fit(itTrain,\n",
    "                              steps_per_epoch=steps,\n",
    "                              epochs=10,\n",
    "                              validation_data=(crossValX,crossValYforSteering),\n",
    "                              verbose=1,\n",
    "                              shuffle=1,)\n",
    "print('history is done')\n",
    "\n",
    "model.save(os.path.join(modelOutputDir, 'laneNavModelSteering.h5'))\n",
    "print('model has been saved')\n",
    "\n",
    "runTime(startTime)"
   ]
  },
  {
   "cell_type": "markdown",
   "metadata": {},
   "source": [
    "## Plot the history"
   ]
  },
  {
   "cell_type": "code",
   "execution_count": null,
   "metadata": {
    "gather": {
     "logged": 1617832331464
    },
    "jupyter": {
     "outputs_hidden": false,
     "source_hidden": false
    },
    "nteract": {
     "transient": {
      "deleting": false
     }
    }
   },
   "outputs": [],
   "source": [
    "pyplot.plot(history.history['loss'], color='blue')\n",
    "pyplot.plot(history.history['val_loss'], color='red')\n",
    "pyplot.legend(['training loss', 'validation loss'])"
   ]
  },
  {
   "cell_type": "markdown",
   "metadata": {},
   "source": [
    "## Prediction vs real\n",
    "This is just where I calculated very simple percent error and printed out the prediction vs the real steering angle.\n",
    "Feel free to get rid of this; just for testing sake.\n",
    "A future step may be to use a better algorithm than percent error."
   ]
  },
  {
   "cell_type": "code",
   "execution_count": null,
   "metadata": {
    "gather": {
     "logged": 1617896678215
    },
    "jupyter": {
     "outputs_hidden": false,
     "source_hidden": false
    },
    "nteract": {
     "transient": {
      "deleting": false
     }
    }
   },
   "outputs": [],
   "source": [
    "\n",
    "model = load_model('laneNavModelSteering.h5')\n",
    "\n",
    "\n",
    "current = 0\n",
    "totalPercentError = 0\n",
    "numberWrong = 0\n",
    "modelOutput = []\n",
    "for item in testX:\n",
    "    item = numpy.array(item)\n",
    "    item = item.reshape(1,480,640,3)\n",
    "    prediction = model.predict(item)\n",
    "    modelOutput.append(prediction[0][0])\n",
    "    prediction = round(prediction[0][0])\n",
    "    print(prediction)\n",
    "    print(testYforSteering[current])\n",
    "    totalPercentError+=(abs((testYforSteering[current]-prediction)/testYforSteering[current]))*100\n",
    "    current+=1\n",
    "print('done')\n",
    "print(totalPercentError/testX.shape[0])\n",
    "\n",
    "\n"
   ]
  },
  {
   "cell_type": "markdown",
   "metadata": {},
   "source": [
    "## Loading in a new image and running a prediction on it\n",
    "You could turn everything after a line 4 into a function that takes in the image paths and returns the predicted steering output since right now this cell is just predicting the steering angle for one specific image"
   ]
  },
  {
   "cell_type": "code",
   "execution_count": null,
   "metadata": {
    "gather": {
     "logged": 1617898053629
    },
    "jupyter": {
     "outputs_hidden": false,
     "source_hidden": false
    },
    "nteract": {
     "transient": {
      "deleting": false
     }
    }
   },
   "outputs": [],
   "source": [
    "model = load_model('laneNavModelSteering.h5')\n",
    "testImagePlace = 'imagesSingle/00b06ca5-e29b-44fa-944c-6c52578d1737.png'\n",
    "testImageYamlPlace = 'yamlSingle/00b06ca5-e29b-44fa-944c-6c52578d1737.yaml'\n",
    "\n",
    "dictYaml = {}\n",
    "\n",
    "img = numpy.array(Image.open(testImagePlace))\n",
    "img = img.astype('float32')\n",
    "img = img/255\n",
    "\n",
    "images = []\n",
    "images.append(img)\n",
    "\n",
    "images = numpy.array(images)\n",
    "\n",
    "with open(os.fsdecode(testImageYamlPlace)) as filey:\n",
    "    dictYaml = yaml.safe_load(filey)\n",
    "    #print(dictYaml)\n",
    "print(dictYaml['steering_angle'])\n",
    "\n",
    "for img1 in images:\n",
    "    img1 = img1.reshape(1,480,640,3)\n",
    "    prediction = model.predict(img1)\n",
    "    print(prediction)"
   ]
  },
  {
   "cell_type": "markdown",
   "metadata": {},
   "source": [
    "## Another plot\n",
    "A different kind of plot to show how closely the predictions fit with the data (in the current model there is quite a bit of overfitting)"
   ]
  },
  {
   "cell_type": "code",
   "execution_count": null,
   "metadata": {
    "gather": {
     "logged": 1617898069932
    },
    "jupyter": {
     "outputs_hidden": false,
     "source_hidden": false
    },
    "nteract": {
     "transient": {
      "deleting": false
     }
    }
   },
   "outputs": [],
   "source": [
    "#for yaml in testYforSteering:\n",
    "testYforSteering100 = testYforSteering[1:100]\n",
    "modelOutput100 = modelOutput[1:100]\n",
    "pyplot.plot(testYforSteering100, color = 'green', lw = 0.5) \n",
    "\n",
    "#for param in modelOutput:\n",
    "pyplot.plot(modelOutput100, color = 'red', lw = 0.5 )\n",
    "\n",
    "pyplot.legend(['Real', 'Output'])"
   ]
  }
 ],
 "metadata": {
  "kernel_info": {
   "name": "python3-azureml"
  },
  "kernelspec": {
   "display_name": "Python 3",
   "language": "python",
   "name": "python3"
  },
  "language_info": {
   "codemirror_mode": {
    "name": "ipython",
    "version": 3
   },
   "file_extension": ".py",
   "mimetype": "text/x-python",
   "name": "python",
   "nbconvert_exporter": "python",
   "pygments_lexer": "ipython3",
   "version": "3.8.5"
  },
  "microsoft": {
   "host": {
    "AzureML": {
     "notebookHasBeenCompleted": true
    }
   }
  },
  "nteract": {
   "version": "nteract-front-end@1.0.0"
  }
 },
 "nbformat": 4,
 "nbformat_minor": 2
}
